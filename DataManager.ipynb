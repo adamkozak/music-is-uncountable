{
 "cells": [
  {
   "cell_type": "code",
   "execution_count": 1,
   "metadata": {
    "collapsed": true
   },
   "outputs": [],
   "source": [
    "import pandas as pd\n",
    "import json"
   ]
  },
  {
   "cell_type": "markdown",
   "metadata": {},
   "source": [
    "# Spotify Dataset"
   ]
  },
  {
   "cell_type": "code",
   "execution_count": 96,
   "metadata": {
    "collapsed": false
   },
   "outputs": [],
   "source": [
    "data = pd.read_csv(\"Datasets/data.csv\")"
   ]
  },
  {
   "cell_type": "code",
   "execution_count": 97,
   "metadata": {
    "collapsed": false
   },
   "outputs": [],
   "source": [
    "countries = list(set(data.Region) - set(['global']))"
   ]
  },
  {
   "cell_type": "code",
   "execution_count": 98,
   "metadata": {
    "collapsed": true
   },
   "outputs": [],
   "source": [
    "with open('Datasets/countries.json', 'w') as outfile:\n",
    "    json.dump(countries, outfile)"
   ]
  },
  {
   "cell_type": "code",
   "execution_count": 109,
   "metadata": {
    "collapsed": false
   },
   "outputs": [],
   "source": [
    "data = data.dropna()"
   ]
  },
  {
   "cell_type": "code",
   "execution_count": 111,
   "metadata": {
    "collapsed": false
   },
   "outputs": [],
   "source": [
    "songs = list(set(data[\"Track Name\"]))\n",
    "with open('Datasets/songs.json', 'w') as outfile:\n",
    "    json.dump(songs, outfile)"
   ]
  },
  {
   "cell_type": "code",
   "execution_count": 112,
   "metadata": {
    "collapsed": false
   },
   "outputs": [
    {
     "data": {
      "text/plain": [
       "<pymongo.results.InsertOneResult at 0x7f999e0ff748>"
      ]
     },
     "execution_count": 112,
     "metadata": {},
     "output_type": "execute_result"
    }
   ],
   "source": [
    "db = client.music\n",
    "infos = db.infos\n",
    "infos.insert_one({\"name\":\"songs_list\", \"value\":songs})"
   ]
  },
  {
   "cell_type": "markdown",
   "metadata": {
    "collapsed": true
   },
   "source": [
    "# MongoDB access"
   ]
  },
  {
   "cell_type": "code",
   "execution_count": 5,
   "metadata": {
    "collapsed": true
   },
   "outputs": [],
   "source": [
    "import pymongo"
   ]
  },
  {
   "cell_type": "code",
   "execution_count": 6,
   "metadata": {
    "collapsed": true
   },
   "outputs": [],
   "source": [
    "from pymongo import MongoClient"
   ]
  },
  {
   "cell_type": "code",
   "execution_count": 7,
   "metadata": {
    "collapsed": false
   },
   "outputs": [],
   "source": [
    "with open('MongoDB/pass', 'r') as inFile:\n",
    "    link = str(inFile.readline()[:-1])"
   ]
  },
  {
   "cell_type": "code",
   "execution_count": null,
   "metadata": {
    "collapsed": false
   },
   "outputs": [],
   "source": []
  },
  {
   "cell_type": "code",
   "execution_count": 8,
   "metadata": {
    "collapsed": false
   },
   "outputs": [],
   "source": [
    "client = MongoClient(link)"
   ]
  },
  {
   "cell_type": "code",
   "execution_count": 9,
   "metadata": {
    "collapsed": true
   },
   "outputs": [],
   "source": [
    "db = client.test_database"
   ]
  },
  {
   "cell_type": "code",
   "execution_count": 10,
   "metadata": {
    "collapsed": true
   },
   "outputs": [],
   "source": [
    "\n",
    "import datetime\n",
    "post = {\"author\": \"Mike\", \"text\": \"My first blog post!\",\"tags\": [\"mongodb\", \"python\", \"pymongo\"],\"date\": datetime.datetime.utcnow()}"
   ]
  },
  {
   "cell_type": "code",
   "execution_count": 11,
   "metadata": {
    "collapsed": false
   },
   "outputs": [
    {
     "data": {
      "text/plain": [
       "ObjectId('5a0eaa5fd4235a166414dab5')"
      ]
     },
     "execution_count": 11,
     "metadata": {},
     "output_type": "execute_result"
    }
   ],
   "source": [
    "posts = db.posts\n",
    "post_id = posts.insert_one(post).inserted_id\n",
    "post_id"
   ]
  },
  {
   "cell_type": "code",
   "execution_count": 12,
   "metadata": {
    "collapsed": false
   },
   "outputs": [
    {
     "data": {
      "text/plain": [
       "{'_id': ObjectId('5a0dba0bd4235a14c4e1a139'),\n",
       " 'author': 'Nathalie',\n",
       " 'date': datetime.datetime(2017, 11, 16, 16, 17, 15, 429000),\n",
       " 'tags': ['mongodb', 'python', 'pymongo'],\n",
       " 'text': 'My first blog post!'}"
      ]
     },
     "execution_count": 12,
     "metadata": {},
     "output_type": "execute_result"
    }
   ],
   "source": [
    "post = posts.find_one({\"author\":\"Nathalie\"})\n",
    "post"
   ]
  },
  {
   "cell_type": "markdown",
   "metadata": {},
   "source": [
    "## Import Dataset in MongoDB"
   ]
  },
  {
   "cell_type": "code",
   "execution_count": 30,
   "metadata": {
    "collapsed": true
   },
   "outputs": [],
   "source": [
    "db = client.music\n",
    "entry = db.entry"
   ]
  },
  {
   "cell_type": "code",
   "execution_count": 31,
   "metadata": {
    "collapsed": true
   },
   "outputs": [],
   "source": [
    "from datetime import datetime\n",
    "from dateutil.parser import parse"
   ]
  },
  {
   "cell_type": "code",
   "execution_count": 32,
   "metadata": {
    "collapsed": false
   },
   "outputs": [
    {
     "data": {
      "text/plain": [
       "Position                                                      1\n",
       "Track Name                                             Chantaje\n",
       "Artist                                                  Shakira\n",
       "Streams                                                  253019\n",
       "URL           https://open.spotify.com/track/6mICuAdrwEjh6Y6...\n",
       "Date                                                 2017-01-01\n",
       "Region                                                       ar\n",
       "Name: 0, dtype: object"
      ]
     },
     "execution_count": 32,
     "metadata": {},
     "output_type": "execute_result"
    }
   ],
   "source": [
    "datetime.strptime(data.iloc[0].Date, '%Y-%m-%d')\n",
    "data.iloc[0]"
   ]
  },
  {
   "cell_type": "code",
   "execution_count": 35,
   "metadata": {
    "collapsed": true
   },
   "outputs": [],
   "source": [
    "data.to_json(\"Datasets/data.json\")"
   ]
  },
  {
   "cell_type": "code",
   "execution_count": null,
   "metadata": {
    "collapsed": false
   },
   "outputs": [],
   "source": [
    "for index, row in data.iterrows():\n",
    "    entry.insert_one({\"pos\":row.Position, \"song\":row[\"Track Name\"], \"artist\":row.Artist, \"streams\":row.Streams, \"url\":row.URL, \"reg\":row.Region})"
   ]
  },
  {
   "cell_type": "code",
   "execution_count": 51,
   "metadata": {
    "collapsed": false
   },
   "outputs": [
    {
     "data": {
      "text/html": [
       "<div>\n",
       "<table border=\"1\" class=\"dataframe\">\n",
       "  <thead>\n",
       "    <tr style=\"text-align: right;\">\n",
       "      <th></th>\n",
       "      <th>Position</th>\n",
       "      <th>Track Name</th>\n",
       "      <th>Artist</th>\n",
       "      <th>Streams</th>\n",
       "      <th>URL</th>\n",
       "      <th>Date</th>\n",
       "      <th>Region</th>\n",
       "    </tr>\n",
       "  </thead>\n",
       "  <tbody>\n",
       "    <tr>\n",
       "      <th>0</th>\n",
       "      <td>1</td>\n",
       "      <td>Chantaje</td>\n",
       "      <td>Shakira</td>\n",
       "      <td>253019</td>\n",
       "      <td>https://open.spotify.com/track/6mICuAdrwEjh6Y6...</td>\n",
       "      <td>2017-01-01</td>\n",
       "      <td>ar</td>\n",
       "    </tr>\n",
       "    <tr>\n",
       "      <th>200</th>\n",
       "      <td>1</td>\n",
       "      <td>Chantaje</td>\n",
       "      <td>Shakira</td>\n",
       "      <td>185399</td>\n",
       "      <td>https://open.spotify.com/track/6mICuAdrwEjh6Y6...</td>\n",
       "      <td>2017-01-02</td>\n",
       "      <td>ar</td>\n",
       "    </tr>\n",
       "    <tr>\n",
       "      <th>400</th>\n",
       "      <td>1</td>\n",
       "      <td>Chantaje</td>\n",
       "      <td>Shakira</td>\n",
       "      <td>183132</td>\n",
       "      <td>https://open.spotify.com/track/6mICuAdrwEjh6Y6...</td>\n",
       "      <td>2017-01-03</td>\n",
       "      <td>ar</td>\n",
       "    </tr>\n",
       "    <tr>\n",
       "      <th>600</th>\n",
       "      <td>1</td>\n",
       "      <td>Chantaje</td>\n",
       "      <td>Shakira</td>\n",
       "      <td>186926</td>\n",
       "      <td>https://open.spotify.com/track/6mICuAdrwEjh6Y6...</td>\n",
       "      <td>2017-01-04</td>\n",
       "      <td>ar</td>\n",
       "    </tr>\n",
       "    <tr>\n",
       "      <th>800</th>\n",
       "      <td>1</td>\n",
       "      <td>Chantaje</td>\n",
       "      <td>Shakira</td>\n",
       "      <td>191288</td>\n",
       "      <td>https://open.spotify.com/track/6mICuAdrwEjh6Y6...</td>\n",
       "      <td>2017-01-05</td>\n",
       "      <td>ar</td>\n",
       "    </tr>\n",
       "  </tbody>\n",
       "</table>\n",
       "</div>"
      ],
      "text/plain": [
       "     Position Track Name   Artist  Streams  \\\n",
       "0           1   Chantaje  Shakira   253019   \n",
       "200         1   Chantaje  Shakira   185399   \n",
       "400         1   Chantaje  Shakira   183132   \n",
       "600         1   Chantaje  Shakira   186926   \n",
       "800         1   Chantaje  Shakira   191288   \n",
       "\n",
       "                                                   URL        Date Region  \n",
       "0    https://open.spotify.com/track/6mICuAdrwEjh6Y6...  2017-01-01     ar  \n",
       "200  https://open.spotify.com/track/6mICuAdrwEjh6Y6...  2017-01-02     ar  \n",
       "400  https://open.spotify.com/track/6mICuAdrwEjh6Y6...  2017-01-03     ar  \n",
       "600  https://open.spotify.com/track/6mICuAdrwEjh6Y6...  2017-01-04     ar  \n",
       "800  https://open.spotify.com/track/6mICuAdrwEjh6Y6...  2017-01-05     ar  "
      ]
     },
     "execution_count": 51,
     "metadata": {},
     "output_type": "execute_result"
    }
   ],
   "source": [
    "data[data.Artist == \"Shakira\"])"
   ]
  },
  {
   "cell_type": "code",
   "execution_count": 79,
   "metadata": {
    "collapsed": false
   },
   "outputs": [],
   "source": [
    "song_streams = data[[\"Track Name\",\"Streams\",\"Date\",\"Region\"]].copy()\n",
    "song_streams.columns = [\"name.string()\",\"streams.string()\",\"date.date(2006-01-02)\",\"region.string()\"]\n",
    "#song_streams[\"name\"] = song_streams[\"name\"].astype('category')\n",
    "\n",
    "#song_streams[\"name\"] = song_streams[\"name\"].cat.codes"
   ]
  },
  {
   "cell_type": "code",
   "execution_count": 81,
   "metadata": {
    "collapsed": true
   },
   "outputs": [],
   "source": [
    "song_streams.to_csv(\"Datasets/idStreamsRegion.csv\", index=False)"
   ]
  },
  {
   "cell_type": "code",
   "execution_count": null,
   "metadata": {
    "collapsed": true
   },
   "outputs": [],
   "source": []
  },
  {
   "cell_type": "code",
   "execution_count": 89,
   "metadata": {
    "collapsed": true
   },
   "outputs": [],
   "source": [
    "import datetime"
   ]
  },
  {
   "cell_type": "code",
   "execution_count": 90,
   "metadata": {
    "collapsed": false
   },
   "outputs": [],
   "source": [
    "test = db.test"
   ]
  },
  {
   "cell_type": "code",
   "execution_count": 94,
   "metadata": {
    "collapsed": false
   },
   "outputs": [
    {
     "data": {
      "text/plain": [
       "{'_id': ObjectId('5a0eccbf1217f9c8af3fae95'),\n",
       " 'date': datetime.datetime(2017, 2, 2, 0, 0),\n",
       " 'name': 'Despacito (Featuring Daddy Yankee)',\n",
       " 'region': 'ar',\n",
       " 'streams': '393283'}"
      ]
     },
     "execution_count": 94,
     "metadata": {},
     "output_type": "execute_result"
    }
   ],
   "source": [
    "entries = test.find({\"date\":datetime.datetime(2017, 2, 2, 0, 0)})\n",
    "t = list(entries)"
   ]
  },
  {
   "cell_type": "code",
   "execution_count": 95,
   "metadata": {
    "collapsed": false
   },
   "outputs": [
    {
     "data": {
      "text/plain": [
       "{'_id': ObjectId('5a0eccbf1217f9c8af3fae95'),\n",
       " 'date': datetime.datetime(2017, 2, 2, 0, 0),\n",
       " 'name': 'Despacito (Featuring Daddy Yankee)',\n",
       " 'region': 'ar',\n",
       " 'streams': '393283'}"
      ]
     },
     "execution_count": 95,
     "metadata": {},
     "output_type": "execute_result"
    }
   ],
   "source": [
    "t[0]"
   ]
  },
  {
   "cell_type": "markdown",
   "metadata": {
    "collapsed": true
   },
   "source": [
    "# TopoJSON generation"
   ]
  },
  {
   "cell_type": "code",
   "execution_count": 103,
   "metadata": {
    "collapsed": false
   },
   "outputs": [
    {
     "data": {
      "text/plain": [
       "{'Afghanistan': 'af',\n",
       " 'Albania': 'al',\n",
       " 'Algeria': 'dz',\n",
       " 'American Samoa': 'as',\n",
       " 'Andorra': 'ad',\n",
       " 'Angola': 'ao',\n",
       " 'Anguilla': 'ai',\n",
       " 'Antarctica': 'aq',\n",
       " 'Antigua and Barbuda': 'ag',\n",
       " 'Argentina': 'ar',\n",
       " 'Armenia': 'am',\n",
       " 'Aruba': 'aw',\n",
       " 'Australia': 'au',\n",
       " 'Austria': 'at',\n",
       " 'Azerbaijan': 'az',\n",
       " 'Bahamas': 'bs',\n",
       " 'Bahrain': 'bh',\n",
       " 'Bangladesh': 'bd',\n",
       " 'Barbados': 'bb',\n",
       " 'Belarus': 'by',\n",
       " 'Belgium': 'be',\n",
       " 'Belize': 'bz',\n",
       " 'Benin': 'bj',\n",
       " 'Bermuda': 'bm',\n",
       " 'Bhutan': 'bt',\n",
       " 'Bolivia (Plurinational State of)': 'bo',\n",
       " 'Bonaire, Sint Eustatius and Saba': 'bq',\n",
       " 'Bosnia and Herzegovina': 'ba',\n",
       " 'Botswana': 'bw',\n",
       " 'Bouvet Island': 'bv',\n",
       " 'Brazil': 'br',\n",
       " 'British Indian Ocean Territory': 'io',\n",
       " 'Brunei Darussalam': 'bn',\n",
       " 'Bulgaria': 'bg',\n",
       " 'Burkina Faso': 'bf',\n",
       " 'Burundi': 'bi',\n",
       " 'Cabo Verde': 'cv',\n",
       " 'Cambodia': 'kh',\n",
       " 'Cameroon': 'cm',\n",
       " 'Canada': 'ca',\n",
       " 'Cayman Islands': 'ky',\n",
       " 'Central African Republic': 'cf',\n",
       " 'Chad': 'td',\n",
       " 'Chile': 'cl',\n",
       " 'China': 'cn',\n",
       " 'Christmas Island': 'cx',\n",
       " 'Cocos (Keeling) Islands': 'cc',\n",
       " 'Colombia': 'co',\n",
       " 'Comoros': 'km',\n",
       " 'Congo': 'cg',\n",
       " 'Congo (Democratic Republic of the)': 'cd',\n",
       " 'Cook Islands': 'ck',\n",
       " 'Costa Rica': 'cr',\n",
       " 'Croatia': 'hr',\n",
       " 'Cuba': 'cu',\n",
       " 'Curaçao': 'cw',\n",
       " 'Cyprus': 'cy',\n",
       " 'Czech Republic': 'cz',\n",
       " \"Côte d'Ivoire\": 'ci',\n",
       " 'Denmark': 'dk',\n",
       " 'Djibouti': 'dj',\n",
       " 'Dominica': 'dm',\n",
       " 'Dominican Republic': 'do',\n",
       " 'Ecuador': 'ec',\n",
       " 'Egypt': 'eg',\n",
       " 'El Salvador': 'sv',\n",
       " 'Equatorial Guinea': 'gq',\n",
       " 'Eritrea': 'er',\n",
       " 'Estonia': 'ee',\n",
       " 'Ethiopia': 'et',\n",
       " 'Falkland Islands (Malvinas)': 'fk',\n",
       " 'Faroe Islands': 'fo',\n",
       " 'Fiji': 'fj',\n",
       " 'Finland': 'fi',\n",
       " 'France': 'fr',\n",
       " 'French Guiana': 'gf',\n",
       " 'French Polynesia': 'pf',\n",
       " 'French Southern Territories': 'tf',\n",
       " 'Gabon': 'ga',\n",
       " 'Gambia': 'gm',\n",
       " 'Georgia': 'ge',\n",
       " 'Germany': 'de',\n",
       " 'Ghana': 'gh',\n",
       " 'Gibraltar': 'gi',\n",
       " 'Greece': 'gr',\n",
       " 'Greenland': 'gl',\n",
       " 'Grenada': 'gd',\n",
       " 'Guadeloupe': 'gp',\n",
       " 'Guam': 'gu',\n",
       " 'Guatemala': 'gt',\n",
       " 'Guernsey': 'gg',\n",
       " 'Guinea': 'gn',\n",
       " 'Guinea-Bissau': 'gw',\n",
       " 'Guyana': 'gy',\n",
       " 'Haiti': 'ht',\n",
       " 'Heard Island and McDonald Islands': 'hm',\n",
       " 'Holy See': 'va',\n",
       " 'Honduras': 'hn',\n",
       " 'Hong Kong': 'hk',\n",
       " 'Hungary': 'hu',\n",
       " 'Iceland': 'is',\n",
       " 'India': 'in',\n",
       " 'Indonesia': 'id',\n",
       " 'Iran (Islamic Republic of)': 'ir',\n",
       " 'Iraq': 'iq',\n",
       " 'Ireland': 'ie',\n",
       " 'Isle of Man': 'im',\n",
       " 'Israel': 'il',\n",
       " 'Italy': 'it',\n",
       " 'Jamaica': 'jm',\n",
       " 'Japan': 'jp',\n",
       " 'Jersey': 'je',\n",
       " 'Jordan': 'jo',\n",
       " 'Kazakhstan': 'kz',\n",
       " 'Kenya': 'ke',\n",
       " 'Kiribati': 'ki',\n",
       " \"Korea (Democratic People's Republic of)\": 'kp',\n",
       " 'Korea (Republic of)': 'kr',\n",
       " 'Kuwait': 'kw',\n",
       " 'Kyrgyzstan': 'kg',\n",
       " \"Lao People's Democratic Republic\": 'la',\n",
       " 'Latvia': 'lv',\n",
       " 'Lebanon': 'lb',\n",
       " 'Lesotho': 'ls',\n",
       " 'Liberia': 'lr',\n",
       " 'Libya': 'ly',\n",
       " 'Liechtenstein': 'li',\n",
       " 'Lithuania': 'lt',\n",
       " 'Luxembourg': 'lu',\n",
       " 'Macao': 'mo',\n",
       " 'Macedonia (the former Yugoslav Republic of)': 'mk',\n",
       " 'Madagascar': 'mg',\n",
       " 'Malawi': 'mw',\n",
       " 'Malaysia': 'my',\n",
       " 'Maldives': 'mv',\n",
       " 'Mali': 'ml',\n",
       " 'Malta': 'mt',\n",
       " 'Marshall Islands': 'mh',\n",
       " 'Martinique': 'mq',\n",
       " 'Mauritania': 'mr',\n",
       " 'Mauritius': 'mu',\n",
       " 'Mayotte': 'yt',\n",
       " 'Mexico': 'mx',\n",
       " 'Micronesia (Federated States of)': 'fm',\n",
       " 'Moldova (Republic of)': 'md',\n",
       " 'Monaco': 'mc',\n",
       " 'Mongolia': 'mn',\n",
       " 'Montenegro': 'me',\n",
       " 'Montserrat': 'ms',\n",
       " 'Morocco': 'ma',\n",
       " 'Mozambique': 'mz',\n",
       " 'Myanmar': 'mm',\n",
       " 'Namibia': 'nan',\n",
       " 'Nauru': 'nr',\n",
       " 'Nepal': 'np',\n",
       " 'Netherlands': 'nl',\n",
       " 'New Caledonia': 'nc',\n",
       " 'New Zealand': 'nz',\n",
       " 'Nicaragua': 'ni',\n",
       " 'Niger': 'ne',\n",
       " 'Nigeria': 'ng',\n",
       " 'Niue': 'nu',\n",
       " 'Norfolk Island': 'nf',\n",
       " 'Northern Mariana Islands': 'mp',\n",
       " 'Norway': 'no',\n",
       " 'Oman': 'om',\n",
       " 'Pakistan': 'pk',\n",
       " 'Palau': 'pw',\n",
       " 'Palestine, State of': 'ps',\n",
       " 'Panama': 'pa',\n",
       " 'Papua New Guinea': 'pg',\n",
       " 'Paraguay': 'py',\n",
       " 'Peru': 'pe',\n",
       " 'Philippines': 'ph',\n",
       " 'Pitcairn': 'pn',\n",
       " 'Poland': 'pl',\n",
       " 'Portugal': 'pt',\n",
       " 'Puerto Rico': 'pr',\n",
       " 'Qatar': 'qa',\n",
       " 'Romania': 'ro',\n",
       " 'Russian Federation': 'ru',\n",
       " 'Rwanda': 'rw',\n",
       " 'Réunion': 're',\n",
       " 'Saint Barthélemy': 'bl',\n",
       " 'Saint Helena, Ascension and Tristan da Cunha': 'sh',\n",
       " 'Saint Kitts and Nevis': 'kn',\n",
       " 'Saint Lucia': 'lc',\n",
       " 'Saint Martin (French part)': 'mf',\n",
       " 'Saint Pierre and Miquelon': 'pm',\n",
       " 'Saint Vincent and the Grenadines': 'vc',\n",
       " 'Samoa': 'ws',\n",
       " 'San Marino': 'sm',\n",
       " 'Sao Tome and Principe': 'st',\n",
       " 'Saudi Arabia': 'sa',\n",
       " 'Senegal': 'sn',\n",
       " 'Serbia': 'rs',\n",
       " 'Seychelles': 'sc',\n",
       " 'Sierra Leone': 'sl',\n",
       " 'Singapore': 'sg',\n",
       " 'Sint Maarten (Dutch part)': 'sx',\n",
       " 'Slovakia': 'sk',\n",
       " 'Slovenia': 'si',\n",
       " 'Solomon Islands': 'sb',\n",
       " 'Somalia': 'so',\n",
       " 'South Africa': 'za',\n",
       " 'South Georgia and the South Sandwich Islands': 'gs',\n",
       " 'South Sudan': 'ss',\n",
       " 'Spain': 'es',\n",
       " 'Sri Lanka': 'lk',\n",
       " 'Sudan': 'sd',\n",
       " 'Suriname': 'sr',\n",
       " 'Svalbard and Jan Mayen': 'sj',\n",
       " 'Swaziland': 'sz',\n",
       " 'Sweden': 'se',\n",
       " 'Switzerland': 'ch',\n",
       " 'Syrian Arab Republic': 'sy',\n",
       " 'Taiwan, Province of China': 'tw',\n",
       " 'Tajikistan': 'tj',\n",
       " 'Tanzania, United Republic of': 'tz',\n",
       " 'Thailand': 'th',\n",
       " 'Timor-Leste': 'tl',\n",
       " 'Togo': 'tg',\n",
       " 'Tokelau': 'tk',\n",
       " 'Tonga': 'to',\n",
       " 'Trinidad and Tobago': 'tt',\n",
       " 'Tunisia': 'tn',\n",
       " 'Turkey': 'tr',\n",
       " 'Turkmenistan': 'tm',\n",
       " 'Turks and Caicos Islands': 'tc',\n",
       " 'Tuvalu': 'tv',\n",
       " 'Uganda': 'ug',\n",
       " 'Ukraine': 'ua',\n",
       " 'United Arab Emirates': 'ae',\n",
       " 'United Kingdom of Great Britain and Northern Ireland': 'gb',\n",
       " 'United States Minor Outlying Islands': 'um',\n",
       " 'United States of America': 'us',\n",
       " 'Uruguay': 'uy',\n",
       " 'Uzbekistan': 'uz',\n",
       " 'Vanuatu': 'vu',\n",
       " 'Venezuela (Bolivarian Republic of)': 've',\n",
       " 'Viet Nam': 'vn',\n",
       " 'Virgin Islands (British)': 'vg',\n",
       " 'Virgin Islands (U.S.)': 'vi',\n",
       " 'Wallis and Futuna': 'wf',\n",
       " 'Western Sahara': 'eh',\n",
       " 'Yemen': 'ye',\n",
       " 'Zambia': 'zm',\n",
       " 'Zimbabwe': 'zw',\n",
       " 'Åland Islands': 'ax'}"
      ]
     },
     "execution_count": 103,
     "metadata": {},
     "output_type": "execute_result"
    }
   ],
   "source": [
    "allCountries = pd.read_csv(\"countries.csv\")\n",
    "alpha2Dict = {}\n",
    "for name, alpha2 in zip(allCountries['name'], allCountries['alpha-2']):\n",
    "    alpha2Dict[name] = str.lower(str(alpha2))\n",
    "alpha2Dict"
   ]
  },
  {
   "cell_type": "code",
   "execution_count": 105,
   "metadata": {
    "collapsed": false
   },
   "outputs": [
    {
     "name": "stdout",
     "output_type": "stream",
     "text": [
      "No correspondance found for: Northern Cyprus id: -1\n",
      "No correspondance found for: Kosovo id: -2\n",
      "No correspondance found for: Somaliland id: -3\n",
      "No correspondance found for: Bolivia, Plurinational State of id: 68\n",
      "No correspondance found for: Virgin Islands, British id: 92\n",
      "No correspondance found for: Cape Verde id: 132\n",
      "No correspondance found for: Congo, the Democratic Republic of the id: 180\n",
      "No correspondance found for: Palestinian Territory, Occupied id: 275\n",
      "No correspondance found for: Holy See (Vatican City State) id: 336\n",
      "No correspondance found for: Iran, Islamic Republic of id: 364\n",
      "No correspondance found for: Korea, Democratic People's Republic of id: 408\n",
      "No correspondance found for: Korea, Republic of id: 410\n",
      "No correspondance found for: Moldova, Republic of id: 498\n",
      "No correspondance found for: Micronesia, Federated States of id: 583\n",
      "No correspondance found for: Macedonia, the former Yugoslav Republic of id: 807\n",
      "No correspondance found for: United Kingdom id: 826\n",
      "No correspondance found for: United States id: 840\n",
      "No correspondance found for: Virgin Islands, U.S. id: 850\n",
      "No correspondance found for: Venezuela, Bolivarian Republic of id: 862\n"
     ]
    }
   ],
   "source": [
    "countryIDs = pd.read_csv(\"world-country-names.tsv\", sep=\"\\t\")\n",
    "idDict = {}\n",
    "for countryID, name in zip(countryIDs['id'], countryIDs['name']):\n",
    "    try:\n",
    "        idDict[str(int(countryID))] = (alpha2Dict[name], name)\n",
    "    except:\n",
    "        print(\"No correspondance found for: \" + name + \" id: \" + str(countryID))"
   ]
  },
  {
   "cell_type": "code",
   "execution_count": 111,
   "metadata": {
    "collapsed": true
   },
   "outputs": [],
   "source": [
    "idDict[\"840\"] = ('us', \"United States\")\n",
    "idDict[\"826\"]  = ('gb', 'United Kingdom')\n",
    "idDict[\"498\"]  = ('md','Moldova')\n",
    "idDict[\"410\"]  = ('kr',\"Republic of Korea\")\n",
    "idDict[\"408\"]  = ('kp',\"Democratic People's Republic of Korea\")\n",
    "idDict[\"807\"]  = ('mk',\"Macedonia (FYRO)\")\n",
    "idDict[\"862\"]  = ('ve',\"Venezuela\")\n",
    "idDict[\"364\"]  = ('ir','Iran')\n",
    "idDict[\"68\"] = ('bo','Bolivia')\n",
    "idDict[\"-2\"] = ('xk','Kosovo')\n",
    "idDict[\"180\"]  = ('cd','Democratic Republic of Congo')\n",
    "idDict[\"275\"]  = ('ps','Palestine')\n",
    "idDict[\"583\"]  = ('fm','Micronesia')"
   ]
  },
  {
   "cell_type": "code",
   "execution_count": 112,
   "metadata": {
    "collapsed": false
   },
   "outputs": [
    {
     "data": {
      "text/html": [
       "<div>\n",
       "<table border=\"1\" class=\"dataframe\">\n",
       "  <thead>\n",
       "    <tr style=\"text-align: right;\">\n",
       "      <th></th>\n",
       "      <th>alpha2</th>\n",
       "      <th>arcs</th>\n",
       "      <th>id</th>\n",
       "      <th>name</th>\n",
       "      <th>type</th>\n",
       "    </tr>\n",
       "  </thead>\n",
       "  <tbody>\n",
       "    <tr>\n",
       "      <th>38</th>\n",
       "      <td></td>\n",
       "      <td>[[218, 219]]</td>\n",
       "      <td>-99</td>\n",
       "      <td></td>\n",
       "      <td>Polygon</td>\n",
       "    </tr>\n",
       "    <tr>\n",
       "      <th>88</th>\n",
       "      <td></td>\n",
       "      <td>[[-18, 404, 405, 406]]</td>\n",
       "      <td>-99</td>\n",
       "      <td></td>\n",
       "      <td>Polygon</td>\n",
       "    </tr>\n",
       "    <tr>\n",
       "      <th>145</th>\n",
       "      <td></td>\n",
       "      <td>[[-265, -233, 554, 555]]</td>\n",
       "      <td>-99</td>\n",
       "      <td></td>\n",
       "      <td>Polygon</td>\n",
       "    </tr>\n",
       "  </tbody>\n",
       "</table>\n",
       "</div>"
      ],
      "text/plain": [
       "    alpha2                      arcs   id name     type\n",
       "38                      [[218, 219]]  -99       Polygon\n",
       "88            [[-18, 404, 405, 406]]  -99       Polygon\n",
       "145         [[-265, -233, 554, 555]]  -99       Polygon"
      ]
     },
     "execution_count": 112,
     "metadata": {},
     "output_type": "execute_result"
    }
   ],
   "source": [
    "infos[infos['alpha2'] == \"\"]"
   ]
  },
  {
   "cell_type": "code",
   "execution_count": 113,
   "metadata": {
    "collapsed": true
   },
   "outputs": [],
   "source": [
    "with open(\"all-geo-110m.json\", \"w\") as out:\n",
    "    json.dump(geo, out)"
   ]
  },
  {
   "cell_type": "code",
   "execution_count": 114,
   "metadata": {
    "collapsed": false
   },
   "outputs": [],
   "source": [
    "with open(\"id_dict.json\", \"w\") as out:\n",
    "    json.dump(idDict, out)"
   ]
  },
  {
   "cell_type": "code",
   "execution_count": null,
   "metadata": {
    "collapsed": false
   },
   "outputs": [],
   "source": []
  },
  {
   "cell_type": "code",
   "execution_count": null,
   "metadata": {
    "collapsed": true
   },
   "outputs": [],
   "source": []
  }
 ],
 "metadata": {
  "anaconda-cloud": {},
  "kernelspec": {
   "display_name": "Python [Root]",
   "language": "python",
   "name": "Python [Root]"
  },
  "language_info": {
   "codemirror_mode": {
    "name": "ipython",
    "version": 3
   },
   "file_extension": ".py",
   "mimetype": "text/x-python",
   "name": "python",
   "nbconvert_exporter": "python",
   "pygments_lexer": "ipython3",
   "version": "3.5.2"
  }
 },
 "nbformat": 4,
 "nbformat_minor": 0
}
